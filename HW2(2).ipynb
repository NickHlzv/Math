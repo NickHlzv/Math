{
 "cells": [
  {
   "cell_type": "markdown",
   "metadata": {
    "collapsed": true,
    "pycharm": {
     "name": "#%% md\n"
    }
   },
   "source": [
    "### 2\n",
    "Рассуждаем. Мешок со вежими огурцами = 100кг, знаем что воды у свежих огурцов 99%, значит 99кг воды.<br>\n",
    "Не воды отсюда 1%, это 100-99 = 1кг - не воды (огуречного вещества), наша вода усыхает значет уходит.<br>\n",
    "Воды стало 98%, ее количество изменилось, но 1кг не воды он остается неизменным и состовляет 2%.<br>\n",
    "Отсюда понятно что воды 98% = 49кг (1кг = 2%), ну и наши огурцы = 50кг<br>\n",
    "\n",
    "Ответ: 50кг огурцов\n"
   ]
  },
  {
   "cell_type": "code",
   "execution_count": 0,
   "metadata": {
    "pycharm": {
     "name": "#%%\n"
    }
   },
   "outputs": [],
   "source": [
    "\n"
   ]
  }
 ],
 "metadata": {
  "kernelspec": {
   "display_name": "Python 3 (ipykernel)",
   "language": "python",
   "name": "python3"
  },
  "language_info": {
   "codemirror_mode": {
    "name": "ipython",
    "version": 3
   },
   "file_extension": ".py",
   "mimetype": "text/x-python",
   "name": "python",
   "nbconvert_exporter": "python",
   "pygments_lexer": "ipython3",
   "version": "3.9.1"
  }
 },
 "nbformat": 4,
 "nbformat_minor": 1
}