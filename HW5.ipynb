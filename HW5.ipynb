{
 "cells": [
  {
   "cell_type": "code",
   "execution_count": 1,
   "metadata": {
    "collapsed": true
   },
   "outputs": [],
   "source": [
    "%matplotlib inline\n",
    "import numpy as np\n",
    "import matplotlib.pyplot as plt\n",
    "import itertools\n",
    "from math import factorial"
   ]
  },
  {
   "cell_type": "markdown",
   "source": [
    "### 1\n",
    "Сделаю в одну команду randint, при каждом повторном запуске ячейки вернется целое от 0 до 36"
   ],
   "metadata": {
    "collapsed": false,
    "pycharm": {
     "name": "#%% md\n"
    }
   }
  },
  {
   "cell_type": "code",
   "execution_count": 2,
   "outputs": [
    {
     "data": {
      "text/plain": "35"
     },
     "execution_count": 2,
     "metadata": {},
     "output_type": "execute_result"
    }
   ],
   "source": [
    "np.random.randint(0,36)"
   ],
   "metadata": {
    "collapsed": false,
    "pycharm": {
     "name": "#%%\n"
    }
   }
  },
  {
   "cell_type": "markdown",
   "source": [
    "### 2"
   ],
   "metadata": {
    "collapsed": false,
    "pycharm": {
     "name": "#%% md\n"
    }
   }
  },
  {
   "cell_type": "code",
   "execution_count": 3,
   "outputs": [
    {
     "name": "stdout",
     "output_type": "stream",
     "text": [
      "0.25\n"
     ]
    }
   ],
   "source": [
    "#2.1\n",
    "#Тут предполагается одно условию на несколько испытание, например 3 раза орел или 2 раза решка\n",
    "a = input('Введите количество совместных событий для монетки')\n",
    "#Понятно что вероятность одной грани монетки 1/2, значит совместные события для n это ее степень\n",
    "try:\n",
    "    print(0.5**int(a))\n",
    "except ValueError:\n",
    "    print('Количество событий может быть только целым числом')"
   ],
   "metadata": {
    "collapsed": false,
    "pycharm": {
     "name": "#%%\n"
    }
   }
  },
  {
   "cell_type": "code",
   "execution_count": 4,
   "outputs": [
    {
     "name": "stdout",
     "output_type": "stream",
     "text": [
      "[0.27403499 0.16139898 0.6963206  0.67079855 0.08330572 0.33368349\n",
      " 0.45414035 0.07588984 0.05031718 0.80617552]\n",
      "[0.1683752  0.10811632 0.01222441 0.06130632 0.50698084 0.221425\n",
      " 0.78299049 0.2977315  0.8077957  0.41027816]\n",
      "[0.58113741 0.89023202 0.91248773 0.96389972 0.68015746 0.40116259\n",
      " 0.42522627 0.28653344 0.17512071 0.79629193]\n",
      "[0.63516088 0.00290049 0.26165314 0.72696889 0.05546101 0.64526919\n",
      " 0.4104378  0.75399434 0.22591476 0.13116134]\n",
      "[0.01226502 0.10966064 0.79788573 0.61246886 0.31224073 0.88844969\n",
      " 0.26596146 0.83345489 0.52585482 0.54467144]\n",
      "[0.10078739 0.58828128 0.57497604 0.74357827 0.68534358 0.72871382\n",
      " 0.6439821  0.14372404 0.29902431 0.90676115]\n",
      "[0.82187933 0.9910785  0.49788644 0.37557256 0.08733759 0.94883284\n",
      " 0.72209671 0.38444608 0.36381429 0.03765887]\n",
      "[0.05484203 0.70889288 0.26954304 0.70085828 0.3896629  0.96486653\n",
      " 0.06955672 0.11852517 0.14296534 0.18564355]\n",
      "[0.78189501 0.92102742 0.9215255  0.34552681 0.84792875 0.01684072\n",
      " 0.16802719 0.01856719 0.20337655 0.05124558]\n",
      "[0.35731491 0.37669992 0.66972705 0.17477173 0.84409803 0.43348688\n",
      " 0.25071238 0.47875573 0.78104925 0.42534789]\n"
     ]
    },
    {
     "data": {
      "text/plain": "Text(0, 0.5, 'Значения сумм')"
     },
     "execution_count": 4,
     "metadata": {},
     "output_type": "execute_result"
    },
    {
     "data": {
      "text/plain": "<Figure size 432x288 with 1 Axes>",
      "image/png": "[encoded data removed]"
     },
     "metadata": {
      "needs_background": "light"
     },
     "output_type": "display_data"
    }
   ],
   "source": [
    "#2.2\n",
    "s = 0\n",
    "for i in range(10):\n",
    "    a = np.random.rand(10)\n",
    "    print(a)\n",
    "    s += a\n",
    "plt.bar([i for i in range(10)], s)\n",
    "plt.xlabel('Индекс выборки суммы начиная с 0')\n",
    "plt.ylabel('Значения сумм')"
   ],
   "metadata": {
    "collapsed": false,
    "pycharm": {
     "name": "#%%\n"
    }
   }
  },
  {
   "cell_type": "markdown",
   "source": [
    "### 3\n"
   ],
   "metadata": {
    "collapsed": false,
    "pycharm": {
     "name": "#%% md\n"
    }
   }
  },
  {
   "cell_type": "code",
   "execution_count": 5,
   "outputs": [
    {
     "name": "stdout",
     "output_type": "stream",
     "text": [
      "2916 7500 0.3888 0.375\n"
     ]
    }
   ],
   "source": [
    "k, n = 100, 7500\n",
    "a = np.random.randint(0, 2, n)\n",
    "b = np.random.randint(0, 2, n)\n",
    "c = np.random.randint(0, 2, n)\n",
    "d = np.random.randint(0, 2, n)\n",
    "x = a + b + c + d\n",
    "for i in range(n):\n",
    "    if x[i] == 2:\n",
    "        k += 1\n",
    "def combination(k, n):\n",
    "    return factorial(n)/(factorial(k)*factorial(n-k))\n",
    "def binom(k, n):\n",
    "    return combination(k, n)/2**n\n",
    "print(k, n, k/n, binom(2, 4))"
   ],
   "metadata": {
    "collapsed": false,
    "pycharm": {
     "name": "#%%\n"
    }
   }
  },
  {
   "cell_type": "markdown",
   "source": [
    "### 4\n",
    "Не очень понял какие вычисления повторить надо и где из задания, просто переписал в более удобной форме"
   ],
   "metadata": {
    "collapsed": false,
    "pycharm": {
     "name": "#%% md\n"
    }
   }
  },
  {
   "cell_type": "code",
   "execution_count": 6,
   "outputs": [
    {
     "data": {
      "text/plain": "['01df',\n '01fd',\n '0d1f',\n '0df1',\n '0f1d',\n '0fd1',\n '10df',\n '10fd',\n '1d0f',\n '1df0',\n '1f0d',\n '1fd0',\n 'd01f',\n 'd0f1',\n 'd10f',\n 'd1f0',\n 'df01',\n 'df10',\n 'f01d',\n 'f0d1',\n 'f10d',\n 'f1d0',\n 'fd01',\n 'fd10']"
     },
     "execution_count": 6,
     "metadata": {},
     "output_type": "execute_result"
    }
   ],
   "source": [
    "permutation = [''.join(p) for p in itertools.permutations(\"01df\", 4)]\n",
    "permutation"
   ],
   "metadata": {
    "collapsed": false,
    "pycharm": {
     "name": "#%%\n"
    }
   }
  },
  {
   "cell_type": "code",
   "execution_count": 7,
   "outputs": [
    {
     "data": {
      "text/plain": "['01', '02', '03', '04', '12', '13', '14', '23', '24', '34']"
     },
     "execution_count": 7,
     "metadata": {},
     "output_type": "execute_result"
    }
   ],
   "source": [
    "comb = [''.join(p) for p in itertools.combinations(\"01234\", 2)]\n",
    "comb"
   ],
   "metadata": {
    "collapsed": false,
    "pycharm": {
     "name": "#%%\n"
    }
   }
  },
  {
   "cell_type": "code",
   "execution_count": 8,
   "outputs": [
    {
     "data": {
      "text/plain": "['000', '001', '010', '011', '100', '101', '110', '111']"
     },
     "execution_count": 8,
     "metadata": {},
     "output_type": "execute_result"
    }
   ],
   "source": [
    "product = [''.join(p) for p in itertools.product(\"01\", repeat=3)]\n",
    "product"
   ],
   "metadata": {
    "collapsed": false,
    "pycharm": {
     "name": "#%%\n"
    }
   }
  },
  {
   "cell_type": "code",
   "execution_count": 9,
   "outputs": [
    {
     "data": {
      "text/plain": "120.0"
     },
     "execution_count": 9,
     "metadata": {},
     "output_type": "execute_result"
    }
   ],
   "source": [
    "def deploys(k, n):\n",
    "    return factorial(n)/factorial(n-k)\n",
    "combination(3, len(comb))"
   ],
   "metadata": {
    "collapsed": false,
    "pycharm": {
     "name": "#%%\n"
    }
   }
  },
  {
   "cell_type": "code",
   "execution_count": 10,
   "outputs": [
    {
     "data": {
      "text/plain": "720.0"
     },
     "execution_count": 10,
     "metadata": {},
     "output_type": "execute_result"
    }
   ],
   "source": [
    "deploys(3, len(comb))\n",
    "\n"
   ],
   "metadata": {
    "collapsed": false,
    "pycharm": {
     "name": "#%%\n"
    }
   }
  },
  {
   "cell_type": "markdown",
   "source": [
    "### 5"
   ],
   "metadata": {
    "collapsed": false
   }
  },
  {
   "cell_type": "code",
   "execution_count": 11,
   "outputs": [
    {
     "name": "stdout",
     "output_type": "stream",
     "text": [
      "0.6634132279573927 0.15556912336457743\n",
      "0.6634132279573924 0.1555691233645774\n"
     ]
    },
    {
     "name": "stderr",
     "output_type": "stream",
     "text": [
      "C:\\Users\\nikit\\AppData\\Local\\Temp/ipykernel_13308/3693681618.py:15: FutureWarning: `rcond` parameter will change to the default of machine precision times ``max(M, N)`` where M and N are the input matrix dimensions.\n",
      "To use the future default and silence this warning we advise to pass `rcond=None`, to keep using the old, explicitly pass `rcond=-1`.\n",
      "  a1, b1 = np.linalg.lstsq(A, y)[0]\n"
     ]
    },
    {
     "data": {
      "text/plain": "<Figure size 432x288 with 1 Axes>",
      "image/png": "[encoded data removed]"
     },
     "metadata": {
      "needs_background": "light"
     },
     "output_type": "display_data"
    }
   ],
   "source": [
    "n = 100\n",
    "r = 0.7\n",
    "x = np.random.rand(n)\n",
    "y = r*x + (1-r)*np.random.rand(n)\n",
    "plt.plot(x, y, 'o')\n",
    "plt.xlabel('x')\n",
    "plt.ylabel('y')\n",
    "plt.grid(True)\n",
    "\n",
    "a = (np.sum(x)*np.sum(y)-n*np.sum(x*y))/(np.sum(x)*np.sum(x) - n*np.sum(x*x))\n",
    "b = (np.sum(y)-a*np.sum(x))/n\n",
    "c = np.corrcoef(x, y)\n",
    "corr = np.sum((x-np.mean(x))*(y-np.mean(y)))/((np.sum((x-np.mean(x))**2)*np.sum((y-np.mean(y))**2))**0.5)\n",
    "A = np.vstack([x, np.ones(len(x))]).T\n",
    "a1, b1 = np.linalg.lstsq(A, y)[0]\n",
    "print(a, b)\n",
    "print(a1, b1)\n",
    "plt.plot([0, 1], [b, a + b])\n",
    "plt.show()"
   ],
   "metadata": {
    "collapsed": false,
    "pycharm": {
     "name": "#%%\n"
    }
   }
  },
  {
   "cell_type": "code",
   "execution_count": 12,
   "outputs": [
    {
     "name": "stdout",
     "output_type": "stream",
     "text": [
      "[[1.         0.89118825]\n",
      " [0.89118825 1.        ]]\n",
      "0.8911882463018702\n"
     ]
    }
   ],
   "source": [
    "print(c)\n",
    "print(corr)\n"
   ],
   "metadata": {
    "collapsed": false,
    "pycharm": {
     "name": "#%%\n"
    }
   }
  }
 ],
 "metadata": {
  "kernelspec": {
   "display_name": "Python 3",
   "language": "python",
   "name": "python3"
  },
  "language_info": {
   "codemirror_mode": {
    "name": "ipython",
    "version": 2
   },
   "file_extension": ".py",
   "mimetype": "text/x-python",
   "name": "python",
   "nbconvert_exporter": "python",
   "pygments_lexer": "ipython2",
   "version": "2.7.6"
  }
 },
 "nbformat": 4,
 "nbformat_minor": 0
}